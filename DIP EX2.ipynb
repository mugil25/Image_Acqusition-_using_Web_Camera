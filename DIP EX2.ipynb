{
 "cells": [
  {
   "cell_type": "code",
   "execution_count": 17,
   "id": "689e5475",
   "metadata": {},
   "outputs": [],
   "source": [
    "NAME : MUGIL MURUGAN \n",
    "REGISTER NO : 212223230127\n",
    "import cv2\n",
    "import numpy as np\n",
    "viedoCaptureObject=cv2.VideoCapture(0)\n",
    "ret,frame=viedoCaptureObject.read()\n",
    "cv2.imwrite(\"captured_frame.jpg\",frame)\n",
    "viedoCaptureObject.release()\n",
    "cv2.destroyAllWindows()"
   ]
  },
  {
   "cell_type": "code",
   "execution_count": 18,
   "id": "7286ee39",
   "metadata": {},
   "outputs": [],
   "source": [
    "cap = cv2.VideoCapture(0)\n",
    "ret, frame = cap.read()\n",
    "cv2.imshow('captured_frame', frame)\n",
    "cv2.waitKey(10000)\n",
    "cap.release()\n",
    "cv2.destroyAllWindows()"
   ]
  },
  {
   "cell_type": "code",
   "execution_count": 19,
   "id": "ffefd84d",
   "metadata": {},
   "outputs": [],
   "source": [
    "cap=cv2.VideoCapture(0)\n",
    "ret,frame=cap.read()\n",
    "width=int(cap.get(3))\n",
    "height=int(cap.get(4))\n",
    "image=np.zeros(frame.shape,np.uint8)\n",
    "smaller_frame=cv2.resize(frame,(0,0),fx=0.5,fy=0.5)\n",
    "image[:height//2, :width//2]=smaller_frame\n",
    "image[height//2:, :width//2]=smaller_frame\n",
    "image[:height//2, width//2:]=smaller_frame\n",
    "image[height//2:, width//2:]=smaller_frame\n",
    "cv2.imshow('',image)\n",
    "cv2.waitKey(5000)  \n",
    "image_dict = {'captured_image1': image}\n",
    "cv2.imwrite('captured_image1.jpg', image)\n",
    "cap.release()\n",
    "cv2.destroyAllWindows()"
   ]
  },
  {
   "cell_type": "code",
   "execution_count": 20,
   "id": "cb7fd7e6",
   "metadata": {},
   "outputs": [],
   "source": [
    "NAME : MUGIL MURUGAN \n",
    "REGISTER NO : 212223230127\n",
    "cap=cv2.VideoCapture(0)\n",
    "ret,frame=cap.read()\n",
    "width=int(cap.get(3))\n",
    "height=int(cap.get(4))\n",
    "image=np.zeros(frame.shape,np.uint8)\n",
    "smaller_frame=cv2.resize(frame,(0,0),fx=0.5,fy=0.5)\n",
    "image[:height//2, :width//2]=cv2.rotate(smaller_frame,cv2.ROTATE_180)\n",
    "image[height//2:, :width//2]=smaller_frame\n",
    "image[:height//2, width//2:]=cv2.rotate(smaller_frame,cv2.ROTATE_180)\n",
    "image[height//2:, width//2:]=smaller_frame\n",
    "cv2.imshow('',image)\n",
    "cv2.waitKey(5000) \n",
    "image_dict = {'captured_image2': image}\n",
    "cv2.imwrite('captured_image2.jpg', image)\n",
    "cap.release()\n",
    "cv2.destroyAllWindows()\n"
   ]
  },
  {
   "cell_type": "code",
   "execution_count": null,
   "id": "fe1fc1aa",
   "metadata": {},
   "outputs": [],
   "source": []
  },
  {
   "cell_type": "code",
   "execution_count": null,
   "id": "c37b7c82",
   "metadata": {},
   "outputs": [],
   "source": []
  },
  {
   "cell_type": "code",
   "execution_count": null,
   "id": "560ae3f3",
   "metadata": {},
   "outputs": [],
   "source": []
  },
  {
   "cell_type": "code",
   "execution_count": null,
   "id": "6941d2ff",
   "metadata": {},
   "outputs": [],
   "source": []
  },
  {
   "cell_type": "code",
   "execution_count": null,
   "id": "287c2b08",
   "metadata": {},
   "outputs": [],
   "source": []
  },
  {
   "cell_type": "code",
   "execution_count": null,
   "id": "6df10e0d",
   "metadata": {},
   "outputs": [],
   "source": []
  }
 ],
 "metadata": {
  "kernelspec": {
   "display_name": "Python 3 (ipykernel)",
   "language": "python",
   "name": "python3"
  },
  "language_info": {
   "codemirror_mode": {
    "name": "ipython",
    "version": 3
   },
   "file_extension": ".py",
   "mimetype": "text/x-python",
   "name": "python",
   "nbconvert_exporter": "python",
   "pygments_lexer": "ipython3",
   "version": "3.11.3"
  }
 },
 "nbformat": 4,
 "nbformat_minor": 5
}
